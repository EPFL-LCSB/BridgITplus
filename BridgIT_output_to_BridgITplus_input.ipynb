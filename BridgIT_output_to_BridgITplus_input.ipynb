{
 "cells": [
  {
   "cell_type": "code",
   "execution_count": 9,
   "metadata": {
    "scrolled": true
   },
   "outputs": [
    {
     "name": "stderr",
     "output_type": "stream",
     "text": [
      "/Users/anastasia/anaconda3/lib/python3.7/site-packages/pandas/compat/_optional.py:138: UserWarning: Pandas requires version '2.7.0' or newer of 'numexpr' (version '2.6.9' currently installed).\n",
      "  warnings.warn(msg, UserWarning)\n"
     ]
    }
   ],
   "source": [
    "import os\n",
    "import pandas as pd\n",
    "import numpy as np\n",
    "from tqdm import tqdm"
   ]
  },
  {
   "cell_type": "markdown",
   "metadata": {},
   "source": [
    "# Prepare BridgIT+ input based on BridgIT results\n",
    "\n",
    "The input for BridgIT+ is generated using [BridgIT](https://www.pnas.org/doi/10.1073/pnas.1818877116) . The standard BridgIT output has a similarity score for each predicted EC number. The reactive site is identified using BNICE.ch reaction rules, the fingerprint is generated, and the EC number and score are predicted as described in the original BridgIT publication. Alternatively, any set of EC numbers per reaction can be used as input.\n",
    "\n",
    "This script helps to translate BridgIT output as provided by [LCSB database website](https://lcsb-databases.epfl.ch/pathways/Bridgit)\n",
    "\n",
    "To access BridgIT, please, fill the [request form](https://lcsb-databases.epfl.ch/pathways/database_requests)\n"
   ]
  },
  {
   "cell_type": "markdown",
   "metadata": {},
   "source": [
    "## 1. Use BridgIT for your orphan reactions according to the instructions on the website\n",
    "BridgIT provides predictions for any orphan reaction that is balanced and can be reconstructed using a BNICE reaction rule\n",
    "![BridgIT interface](figures_for_jupyter/BridgITinterface.png)"
   ]
  },
  {
   "cell_type": "markdown",
   "metadata": {},
   "source": [
    "## 2. Make sure you got the BridgIT results\n",
    "If BridgIT was able to find the results for your reaction, your BridgIT results ( Tanimoto_Atom_reactions_\\*.txt file) should look similar to the following: \n",
    "![BridgIT results example](figures_for_jupyter/tanimotoResultsExample.png)"
   ]
  },
  {
   "cell_type": "markdown",
   "metadata": {},
   "source": [
    "## 3. Decide on your parameters\n",
    "Now that you got your BridgIT predictions file, you can decide whether your would prefer to change the default parameters:\n",
    "1. Tanimoto similarity threshold (see BridgIT publication for more detail). Here the default is 0.9.\n",
    "2. If you choose to select only the maximum level with promiscuous EC class predictions or all levels for one reaction. The default is only the maximum level with promiscuous predictions. Choosing to select all levels leads to increased time of calculation for BridgIT+ during the sequence request and alignment steps.\n",
    "\n",
    "The desicion is affected by the BridgIT results. If the top-ranked results have high scores (>0.9) and many alternatives are proposed, we suggest to keep the default parameters. In case BridgIT's best predictions have low Tanimoto similarity scores or few alternatives are proposed, we suggest to lower the Tanimoto similarity threshold accordingly and create input for each individual level (MAX_LVL_ONLY = False)."
   ]
  },
  {
   "cell_type": "code",
   "execution_count": 2,
   "metadata": {},
   "outputs": [],
   "source": [
    "# TST - Tanimoto similarity threshold\n",
    "TST = 0.9 # Default value for TST is 0.9\n",
    "\n",
    "# MAX_LVL_ONLY - Boolean indicating if only the maximum level with promiscuity is selected or all the levels\n",
    "MAX_LVL_ONLY = False"
   ]
  },
  {
   "cell_type": "markdown",
   "metadata": {},
   "source": [
    "## 4. Create the project folder structure for your orphan reaction inside the projects folder.\n",
    "put the name of the folder as the project name in the cell below and execute the following cell"
   ]
  },
  {
   "cell_type": "code",
   "execution_count": 1,
   "metadata": {},
   "outputs": [],
   "source": [
    "projectname = \"all_known_reactions_generate_profiles\""
   ]
  },
  {
   "cell_type": "code",
   "execution_count": 2,
   "metadata": {},
   "outputs": [
    {
     "ename": "NameError",
     "evalue": "name 'os' is not defined",
     "output_type": "error",
     "traceback": [
      "\u001b[0;31m---------------------------------------------------------------------------\u001b[0m",
      "\u001b[0;31mNameError\u001b[0m                                 Traceback (most recent call last)",
      "\u001b[0;32m<ipython-input-2-f09c1fdda802>\u001b[0m in \u001b[0;36m<module>\u001b[0;34m\u001b[0m\n\u001b[0;32m----> 1\u001b[0;31m \u001b[0;32mif\u001b[0m \u001b[0;32mnot\u001b[0m \u001b[0mos\u001b[0m\u001b[0;34m.\u001b[0m\u001b[0mpath\u001b[0m\u001b[0;34m.\u001b[0m\u001b[0mexists\u001b[0m\u001b[0;34m(\u001b[0m\u001b[0;34m'projects/'\u001b[0m\u001b[0;34m+\u001b[0m\u001b[0mprojectname\u001b[0m\u001b[0;34m)\u001b[0m\u001b[0;34m:\u001b[0m\u001b[0;34m\u001b[0m\u001b[0;34m\u001b[0m\u001b[0m\n\u001b[0m\u001b[1;32m      2\u001b[0m     \u001b[0mos\u001b[0m\u001b[0;34m.\u001b[0m\u001b[0mmkdir\u001b[0m\u001b[0;34m(\u001b[0m\u001b[0;34m'projects/'\u001b[0m\u001b[0;34m+\u001b[0m\u001b[0mprojectname\u001b[0m\u001b[0;34m)\u001b[0m\u001b[0;34m\u001b[0m\u001b[0;34m\u001b[0m\u001b[0m\n\u001b[1;32m      3\u001b[0m \u001b[0;32mif\u001b[0m \u001b[0;32mnot\u001b[0m \u001b[0mos\u001b[0m\u001b[0;34m.\u001b[0m\u001b[0mpath\u001b[0m\u001b[0;34m.\u001b[0m\u001b[0mexists\u001b[0m\u001b[0;34m(\u001b[0m\u001b[0;34m'projects/'\u001b[0m\u001b[0;34m+\u001b[0m\u001b[0mprojectname\u001b[0m\u001b[0;34m+\u001b[0m\u001b[0;34m'/BridgIT_results/'\u001b[0m\u001b[0;34m)\u001b[0m\u001b[0;34m:\u001b[0m\u001b[0;34m\u001b[0m\u001b[0;34m\u001b[0m\u001b[0m\n\u001b[1;32m      4\u001b[0m     \u001b[0mos\u001b[0m\u001b[0;34m.\u001b[0m\u001b[0mmkdir\u001b[0m\u001b[0;34m(\u001b[0m\u001b[0;34m'projects/'\u001b[0m\u001b[0;34m+\u001b[0m\u001b[0mprojectname\u001b[0m\u001b[0;34m+\u001b[0m\u001b[0;34m'/BridgIT_results/'\u001b[0m\u001b[0;34m)\u001b[0m\u001b[0;34m\u001b[0m\u001b[0;34m\u001b[0m\u001b[0m\n\u001b[1;32m      5\u001b[0m \u001b[0;32mif\u001b[0m \u001b[0;32mnot\u001b[0m \u001b[0mos\u001b[0m\u001b[0;34m.\u001b[0m\u001b[0mpath\u001b[0m\u001b[0;34m.\u001b[0m\u001b[0mexists\u001b[0m\u001b[0;34m(\u001b[0m\u001b[0;34m'projects/'\u001b[0m\u001b[0;34m+\u001b[0m\u001b[0mprojectname\u001b[0m\u001b[0;34m+\u001b[0m\u001b[0;34m'/input/'\u001b[0m\u001b[0;34m)\u001b[0m\u001b[0;34m:\u001b[0m\u001b[0;34m\u001b[0m\u001b[0;34m\u001b[0m\u001b[0m\n",
      "\u001b[0;31mNameError\u001b[0m: name 'os' is not defined"
     ]
    }
   ],
   "source": [
    "if not os.path.exists('projects/'+projectname):\n",
    "    os.mkdir('projects/'+projectname)\n",
    "if not os.path.exists('projects/'+projectname+'/BridgIT_results/'):\n",
    "    os.mkdir('projects/'+projectname+'/BridgIT_results/')\n",
    "if not os.path.exists('projects/'+projectname+'/input/'):\n",
    "    os.mkdir('projects/'+projectname+'/input/')"
   ]
  },
  {
   "cell_type": "markdown",
   "metadata": {},
   "source": [
    "This is the path where you should transfer the BridgIT results that you downloaded from the website"
   ]
  },
  {
   "cell_type": "code",
   "execution_count": 3,
   "metadata": {},
   "outputs": [],
   "source": [
    "path_to_bridgit_results = 'projects/'+projectname+'/BridgIT_results/'"
   ]
  },
  {
   "cell_type": "markdown",
   "metadata": {},
   "source": [
    "This is were your BridgIT+ input will be after the execution"
   ]
  },
  {
   "cell_type": "code",
   "execution_count": 4,
   "metadata": {
    "scrolled": true
   },
   "outputs": [],
   "source": [
    "bridgit_plus_input = 'projects/'+projectname+'/input/'+'/input_profiles_'+projectname+'.txt'"
   ]
  },
  {
   "cell_type": "markdown",
   "metadata": {},
   "source": [
    "## 5. Transfer the Tanimoto_Atom_reactions_* files of your BridgIT results into the BridgIT_results folder (manual step)"
   ]
  },
  {
   "cell_type": "markdown",
   "metadata": {},
   "source": [
    "## 6. Execute the cells below to create BridgIT+ input file"
   ]
  },
  {
   "cell_type": "code",
   "execution_count": 7,
   "metadata": {},
   "outputs": [],
   "source": [
    "def extract_BridgIT_candidates(rxn, L=0):\n",
    "    \"\"\"\n",
    "    Convert the table of BridgIT results into BridgIT+ input according to the defined BridgIT fingerprint level\n",
    "    params:\n",
    "    rxn: reaction ID (* of the Tanimoto_Atom_reactions_*.txt)\n",
    "    L: BridgIT fingerprint level\n",
    "    return:\n",
    "    returns list of candidate ECs and reference EC\n",
    "    \"\"\"\n",
    "    ECs_all=[]\n",
    "    reference=[]\n",
    "    \n",
    "    # The iteration over the files of the directory is necessary in case \n",
    "    # one reaction has results for several tautomer options\n",
    "    for file in os.listdir(path_to_bridgit_results):\n",
    "        if file.startswith('Tanimoto_Atom_reactions_'+rxn):\n",
    "            # Read the data from the BridgIT results as pandas dataframe   \n",
    "            df=pd.read_csv(path_to_bridgit_results+file,sep='\\t+|/',engine=\"python\")\n",
    "            if 'simialr_reaction_ID' in df.columns:\n",
    "                L0,L1,L2,L3,L4,L5,L6,L7 = 'L0','L1','L2','L3','L4','L5','L6','L7'\n",
    "                Similar_rxn, Input_rxn, Bridgit_Score = 'Enzymatic_rule','not_used','BridgIT_Scores'\n",
    "            else:\n",
    "                L0,L1,L2,L3,L4,L5,L6,L7 = 'TL0','TL1','TL2','TL3','TL4','TL5','TL6','TL7'\n",
    "                Similar_rxn, Input_rxn, Bridgit_Score = 'ECA','not_used','Tanimoto_FBI_Scores'\n",
    "\n",
    "            df.rename({' '+L0:L0},axis='columns',inplace=True)\n",
    "\n",
    "            # Collect the promiscuous ECs per level according to the threshold\n",
    "            if L==0:\n",
    "                ECs=df.loc[(df[L0]==1)&(df[Bridgit_Score]>=0.3)][Similar_rxn]\n",
    "            elif L==1:\n",
    "                ECs=df.loc[(df[L0]==1)&(df[L1]>=TST)&(df[Bridgit_Score]>=0.3)][Similar_rxn]\n",
    "            elif L==2:\n",
    "                ECs=df.loc[(df[L0]==1)&(df[L1]>=TST)&(df[L2]>=TST)&(df[Bridgit_Score]>=0.3)][Similar_rxn]\n",
    "            elif L==3:\n",
    "                ECs=df.loc[(df[L0]==1)&(df[L1]>=TST)&(df[L2]>=TST)&(df[L3]>=TST)&(df[Bridgit_Score]>=0.3)][Similar_rxn]\n",
    "            elif L==4:\n",
    "                ECs=df.loc[(df[L0]==1)&(df[L1]>=TST)&(df[L2]>=TST)&(df[L3]>=TST)&(df[L4]>=TST)&(df[Bridgit_Score]>=0.3)][Similar_rxn]\n",
    "            elif L==5:\n",
    "                ECs=df.loc[(df[L0]==1)&(df[L1]>=TST)&(df[L2]>=TST)&(df[L3]>=TST)&(df[L4]>=TST)&(df[L5]>=TST)&(df[Bridgit_Score]>=0.3)][Similar_rxn]\n",
    "            elif L==6:\n",
    "                ECs=df.loc[(df[L0]==1)&(df[L1]>=TST)&(df[L2]>=TST)&(df[L3]>=TST)&(df[L4]>=TST)&(df[L5]>=TST)&(df[L6]>=TST)&(df[Bridgit_Score]>=0.3)][Similar_rxn]\n",
    "            elif L==7:\n",
    "                ECs=df.loc[(df[L0]==1)&(df[L1]>=TST)&(df[L2]>=TST)&(df[L3]>=TST)&(df[L4]>=TST)&(df[L5]>=TST)&(df[L6]>=TST)&(df[L7]>=TST)&(df[Bridgit_Score]>=0.3)][Similar_rxn]\n",
    "            else:\n",
    "                raise inputError('Error, L not valid')\n",
    "\n",
    "            \n",
    "            ECs=ECs.unique()[0:10000]\n",
    "            ECs=np.delete(ECs,np.where(ECs==';'))\n",
    "            ECs=[x for x in ','.join(ECs).replace(';','').split(',') if not (x.endswith('-') or x=='' or x=='SPONTANEOUS' or x=='NonEnzymatic')]\n",
    "            ECs=[x for x in ECs if x]\n",
    "            ECs_all.extend(ECs)\n",
    "\n",
    "            # Collect reference ECs - ECs of reactions exactly matched to the input reaction on all levels\n",
    "            \n",
    "            refs=df.loc[(df[Bridgit_Score]==1)][Similar_rxn].unique()[0:10000]\n",
    "            refs=np.delete(refs,np.where(refs==';'))\n",
    "            refs=[x for x in ','.join(refs).replace(';','').split(',') if not (x.endswith('-') or x=='' or x=='SPONTANEOUS' or x=='NonEnzymatic')]\n",
    "            refs=[x for x in refs if x]\n",
    "            reference.extend(refs)\n",
    "\n",
    "    return [list(set(ECs_all)), list(set(reference))]"
   ]
  },
  {
   "cell_type": "markdown",
   "metadata": {},
   "source": [
    "The function to choose reference level from 3D array of level-ECs-threshold ![3D array](figures_for_jupyter/3DarrayOfCandidateEcs.png)"
   ]
  },
  {
   "cell_type": "code",
   "execution_count": 8,
   "metadata": {},
   "outputs": [],
   "source": [
    "def choose_Candidate_Ecs_level(candidate_ECs):\n",
    "    # initiate the search with maximum possible level\n",
    "    chosen_level = 7\n",
    "    while chosen_level > 0:\n",
    "        # compare promiscuous ECs to reference ECs\n",
    "        if not set(candidate_ECs[chosen_level][0])==set(candidate_ECs[chosen_level][1]):\n",
    "            return chosen_level\n",
    "        else:\n",
    "            chosen_level-=1\n",
    "    # In case none of the levels have promiscuous predictions, return the max level\n",
    "    return 7    "
   ]
  },
  {
   "cell_type": "code",
   "execution_count": 9,
   "metadata": {},
   "outputs": [
    {
     "name": "stderr",
     "output_type": "stream",
     "text": [
      "100%|██████████| 6916/6916 [4:24:03<00:00,  1.20s/it]   \n",
      "ERROR:root:Invalid alias: The name clear can't be aliased because it is another magic command.\n",
      "ERROR:root:Invalid alias: The name more can't be aliased because it is another magic command.\n",
      "ERROR:root:Invalid alias: The name less can't be aliased because it is another magic command.\n",
      "ERROR:root:Invalid alias: The name man can't be aliased because it is another magic command.\n"
     ]
    }
   ],
   "source": [
    "# Collect the list of the reactions to be transformed into BridgIT+ input\n",
    "# split('t')[0] is necessary in case tautomers are considered\n",
    "# Therefore, be sure that your reaction name does not contain 't', otherwise, remove split('t')[0]\n",
    "\n",
    "list_rxns=[]\n",
    "for file in os.listdir(path_to_bridgit_results):\n",
    "    if file.startswith('Tanimoto_Atom_reactions_'):\n",
    "        list_rxns.append(file.replace('Tanimoto_Atom_reactions_','').replace('.txt','').split('t')[0])\n",
    "list_rxns = list(set(list_rxns))\n",
    "list_rxns.sort()\n",
    "exit()\n",
    "\n",
    "with open(bridgit_plus_input, mode='w') as res_selected, open(bridgit_plus_input.split('.')[0]+'_all_levels.txt', 'w') as res_all:\n",
    "    for rxn in tqdm(list_rxns):\n",
    "        # Extract the candidates per level for each BridgIT fingerprint level\n",
    "        candidate_ECs = [extract_BridgIT_candidates(rxn,lvl) for lvl in range(8)]\n",
    "\n",
    "        # Identify the maximum level with promiscuity\n",
    "        lvl = choose_Candidate_Ecs_level(candidate_ECs)\n",
    "        res_selected.write(str(rxn)+'L'+str(lvl)+'\\t,'+str(','.join(candidate_ECs[lvl][1]))+'\\t,'\\\n",
    "                      +str(','.join(candidate_ECs[lvl][0]))+'\\n')\n",
    "        if not MAX_LVL_ONLY:\n",
    "            for lvl in range(8):\n",
    "                res_all.write(str(rxn)+'L'+str(lvl)+'\\t,'+str(','.join(candidate_ECs[lvl][1]))+'\\t,'\\\n",
    "                          +str(','.join(candidate_ECs[lvl][0]))+'\\n')\n"
   ]
  },
  {
   "cell_type": "code",
   "execution_count": 10,
   "metadata": {},
   "outputs": [
    {
     "data": {
      "text/plain": [
       "0"
      ]
     },
     "execution_count": 10,
     "metadata": {},
     "output_type": "execute_result"
    }
   ],
   "source": [
    "# separate empty results from ready results\n",
    "with open(bridgit_plus_input) as f, \\\n",
    "     open(bridgit_plus_input.split('.')[0]+'_empty.txt','w') as empty,\\\n",
    "     open(bridgit_plus_input.split('.')[0]+'_processable.txt','w') as processable:\n",
    "    for line in f:\n",
    "        if line.split('\\t')[1].replace(',','') == '' and line.strip().split('\\t')[2].replace(',','') == '':\n",
    "            empty.write(line)\n",
    "        else:\n",
    "            processable.write(line)\n",
    "os.system('mv '+bridgit_plus_input.split('.')[0]+'_processable.txt' + ' ' + bridgit_plus_input)"
   ]
  },
  {
   "cell_type": "code",
   "execution_count": null,
   "metadata": {},
   "outputs": [],
   "source": []
  }
 ],
 "metadata": {
  "kernelspec": {
   "display_name": "Python 3",
   "language": "python",
   "name": "python3"
  },
  "language_info": {
   "codemirror_mode": {
    "name": "ipython",
    "version": 3
   },
   "file_extension": ".py",
   "mimetype": "text/x-python",
   "name": "python",
   "nbconvert_exporter": "python",
   "pygments_lexer": "ipython3",
   "version": "3.7.3"
  }
 },
 "nbformat": 4,
 "nbformat_minor": 2
}
